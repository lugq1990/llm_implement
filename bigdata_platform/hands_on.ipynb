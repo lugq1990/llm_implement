{
 "cells": [
  {
   "cell_type": "code",
   "execution_count": 1,
   "metadata": {},
   "outputs": [],
   "source": [
    "import networkx as nx\n",
    "import json\n",
    "import os\n",
    "import pathlib\n",
    "import matplotlib.pyplot as plt\n",
    "\n",
    "# cur_path = pathlib.Path(__file__).parent.resolve()\n",
    "cur_path = os.path.abspath(os.curdir)\n",
    "\n",
    "\n",
    "file_name = os.path.join(cur_path, \"sample_flow.json\")\n",
    "\n",
    "with open(file_name, 'r') as f:\n",
    "    data = f.read()\n",
    "\n",
    "\n",
    "flow_json = json.loads(data)\n",
    "\n",
    "def load_template(file_path=None):\n",
    "    if not file_path:\n",
    "        file_name = os.path.join(cur_path, \"sample_flow.json\")\n",
    "    else:\n",
    "        file_name = file_path\n",
    "    with open(file_name, 'r') as f:\n",
    "        data = f.read()\n",
    "\n",
    "    flow_json = json.loads(data)\n",
    "    return flow_json\n",
    "\n"
   ]
  },
  {
   "cell_type": "code",
   "execution_count": 2,
   "metadata": {},
   "outputs": [],
   "source": [
    "class DAG:\n",
    "    # this class all related DAG\n",
    "    def __init__(self) -> None:\n",
    "        self._json_data = load_template()\n",
    "        self.dg = nx.DiGraph()\n",
    "\n",
    "    def create_dag(self,):\n",
    "        comp_list = self._json_data['components']['1']\n",
    "        node_list = [(x['id'], x) for x in comp_list]\n",
    "        # first add node list\n",
    "        self.dg.add_nodes_from(node_list)\n",
    "\n",
    "        # add edge order\n",
    "        for source_id, meta in node_list:\n",
    "            if len(meta['connections']) > 0:\n",
    "                cons = meta['connections'].get('0')\n",
    "                for con in cons:\n",
    "                    next_id = con['id']\n",
    "                    self.dg.add_edge(source_id, next_id)\n",
    "        return self.dg\n",
    "\n",
    "    \n",
    "dg = DAG().create_dag()\n"
   ]
  },
  {
   "cell_type": "code",
   "execution_count": 3,
   "metadata": {},
   "outputs": [
    {
     "name": "stdout",
     "output_type": "stream",
     "text": [
      "['1688621680859', '1688623653352', '1688623054188']\n"
     ]
    }
   ],
   "source": [
    "top_order = list(nx.topological_sort(dg))\n",
    "print(top_order)"
   ]
  },
  {
   "cell_type": "code",
   "execution_count": 4,
   "metadata": {},
   "outputs": [
    {
     "data": {
      "text/plain": [
       "{'component': 'file_source',\n",
       " 'state': {'text': '', 'color': ''},\n",
       " 'x': 94,\n",
       " 'y': 120,\n",
       " 'tab': '1688621678511',\n",
       " 'connections': {'0': [{'index': '0', 'id': '1688623653352'}]},\n",
       " 'id': '1688621680859',\n",
       " 'isnew': True,\n",
       " 'disabledio': {'input': [], 'output': []},\n",
       " 'name': 'Hive Source',\n",
       " 'phase': 1,\n",
       " 'options': {'sourceCSI': '146184',\n",
       "  'ID': '1688621680859',\n",
       "  'database': 'data',\n",
       "  'tableName': 'test'}}"
      ]
     },
     "execution_count": 4,
     "metadata": {},
     "output_type": "execute_result"
    }
   ],
   "source": [
    "dg.nodes[top_order[0]]"
   ]
  },
  {
   "cell_type": "code",
   "execution_count": 19,
   "metadata": {},
   "outputs": [],
   "source": [
    "import sys\n",
    "\n",
    "sys.path.append(r'D:\\work\\code_related\\my_codes\\llm_implement')\n",
    "from tranforms import *\n",
    "from data_sink import *\n",
    "from data_source import *\n",
    "\n",
    "func_mapping = {\n",
    "    'hive_source':'',\n",
    "    'select': Select,\n",
    "    'lit': Lit,\n",
    "    'file_source': FileSource,\n",
    "    'file_sink': FileSink\n",
    "}"
   ]
  },
  {
   "cell_type": "code",
   "execution_count": 20,
   "metadata": {},
   "outputs": [
    {
     "data": {
      "text/plain": [
       "DataFrame[value: string]"
      ]
     },
     "execution_count": 20,
     "metadata": {},
     "output_type": "execute_result"
    }
   ],
   "source": [
    "s = func_mapping.get(dg.nodes[top_order[0]].get('component'))\n",
    "s().process()"
   ]
  },
  {
   "cell_type": "code",
   "execution_count": 22,
   "metadata": {},
   "outputs": [
    {
     "data": {
      "text/plain": [
       "{'1688621680859': DataFrame[value: string],\n",
       " '1688623653352': DataFrame[value: string],\n",
       " '1688623054188': None}"
      ]
     },
     "execution_count": 22,
     "metadata": {},
     "output_type": "execute_result"
    }
   ],
   "source": [
    "def process_pipeline(top_order):\n",
    "    data_mapping = {}\n",
    "\n",
    "    for i, id in enumerate(top_order):\n",
    "        node_params =  dg.nodes[id]\n",
    "        component = node_params.get('component')\n",
    "        options = node_params.get('options')\n",
    "        func_class = func_mapping.get(component)(**options)\n",
    "        if isinstance(func_class, DataSource):\n",
    "            df = func_class.process()\n",
    "        else:\n",
    "            pre_df = data_mapping.get(top_order[i-1])\n",
    "            df = func_class.process(pre_df)\n",
    "        data_mapping[id] = df\n",
    "    return data_mapping\n",
    "\n",
    "process_pipeline(top_order=top_order)\n",
    "    "
   ]
  },
  {
   "cell_type": "code",
   "execution_count": null,
   "metadata": {},
   "outputs": [],
   "source": []
  }
 ],
 "metadata": {
  "kernelspec": {
   "display_name": "llm",
   "language": "python",
   "name": "python3"
  },
  "language_info": {
   "codemirror_mode": {
    "name": "ipython",
    "version": 3
   },
   "file_extension": ".py",
   "mimetype": "text/x-python",
   "name": "python",
   "nbconvert_exporter": "python",
   "pygments_lexer": "ipython3",
   "version": "3.10.11"
  },
  "orig_nbformat": 4
 },
 "nbformat": 4,
 "nbformat_minor": 2
}
